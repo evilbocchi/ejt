{
 "cells": [
  {
   "cell_type": "code",
   "execution_count": 22,
   "metadata": {},
   "outputs": [],
   "source": [
    "import json\n",
    "\n",
    "with open('source.wikitext', 'r') as file:\n",
    "    content = file.read()\n",
    "    \n",
    "# get rid of text before '''Baseline (Start of the Chart)'''\n",
    "\n",
    "content = content.split(\"'''Baseline (Start of the Chart)'''\")[1].strip()\n",
    "difficulties = dict()\n",
    "\n",
    "for entry in content.split('|-\\n|[[File:')[1:]:\n",
    "    lines = entry.split('\\n')\n",
    "    image = lines[0].split('|')[0]\n",
    "    name = lines[1][3:-2]\n",
    "    rating = lines[3][1:]\n",
    "    rating_split = rating.split('</font>')\n",
    "    if len(rating_split) > 1:\n",
    "        rating = rating_split[0].split('>')[-1]\n",
    "    rating = rating.strip()\n",
    "        \n",
    "    difficulties[name] = {\n",
    "        'image': f'https://jtohs-joke-towers.fandom.com/wiki/File:{image.replace(' ', '_')}',\n",
    "        'rating': rating   \n",
    "    }\n",
    "\n",
    "# save the data to json\n",
    "json.dump(difficulties, open('difficulties.json', 'w'), indent=4)"
   ]
  }
 ],
 "metadata": {
  "kernelspec": {
   "display_name": "base",
   "language": "python",
   "name": "python3"
  },
  "language_info": {
   "codemirror_mode": {
    "name": "ipython",
    "version": 3
   },
   "file_extension": ".py",
   "mimetype": "text/x-python",
   "name": "python",
   "nbconvert_exporter": "python",
   "pygments_lexer": "ipython3",
   "version": "3.12.7"
  }
 },
 "nbformat": 4,
 "nbformat_minor": 2
}
